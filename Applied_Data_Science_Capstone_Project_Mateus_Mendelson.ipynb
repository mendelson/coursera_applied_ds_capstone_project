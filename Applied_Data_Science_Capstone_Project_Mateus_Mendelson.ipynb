{
 "cells": [
  {
   "cell_type": "code",
   "execution_count": null,
   "metadata": {},
   "outputs": [],
   "source": [
    "!pip install bs4\n",
    "!pip install lxml"
   ]
  },
  {
   "cell_type": "markdown",
   "metadata": {},
   "source": [
    "# Imports and functions definitions to get the table as a DataFrame"
   ]
  },
  {
   "cell_type": "code",
   "execution_count": 1,
   "metadata": {},
   "outputs": [],
   "source": [
    "import pandas as pd\n",
    "import numpy as np\n",
    "import requests\n",
    "from bs4 import BeautifulSoup"
   ]
  },
  {
   "cell_type": "code",
   "execution_count": 2,
   "metadata": {},
   "outputs": [],
   "source": [
    "def get_request(url):\n",
    "    response = requests.get(url)\n",
    "    return response\n",
    "\n",
    "def get_empty_table_df():\n",
    "    columns = ['Postcode', 'Borough', 'Neighbourhood']\n",
    "    table_df = pd.DataFrame(columns=columns)\n",
    "    table_df.reset_index()\n",
    "    \n",
    "    return table_df\n",
    "\n",
    "def get_df_line(line):\n",
    "    td = line.findAll('td')\n",
    "    \n",
    "    new_line = [0, 0, 0]\n",
    "    for i in range(0, 3):\n",
    "        new_line[i] = td[i].findAll(text=True)[0]\n",
    "    \n",
    "    if new_line[2].endswith('\\n'):\n",
    "        new_line[2] = new_line[2][:-1]\n",
    "        \n",
    "    return new_line\n",
    "\n",
    "def treat_not_assigned(df):\n",
    "    df.replace('Not assigned', np.nan, inplace=True)\n",
    "    \n",
    "    for i in range(0, df.shape[0]):\n",
    "        if pd.isnull(df.loc[i, 'Neighbourhood']) and (not pd.isnull(df.loc[i, 'Borough'])):\n",
    "            df.loc[i, 'Neighbourhood'] = df.loc[i, 'Borough']\n",
    "    \n",
    "    df.dropna(inplace=True)\n",
    "    df.reset_index(drop=True, inplace=True)\n",
    "    \n",
    "    return df\n",
    "\n",
    "def group_by_postcode(df):\n",
    "    df = df.groupby(by='Postcode', observed=True)\n",
    "    return df\n",
    "    \n",
    "\n",
    "def get_table_df(response):\n",
    "    table_df = get_empty_table_df()\n",
    "    \n",
    "    soup = BeautifulSoup(response.text, 'html.parser')\n",
    "    table = soup.findAll('table')[0]\n",
    "    tbody = table.findAll('tbody')[0]\n",
    "    lines = tbody.findAll('tr')\n",
    "    \n",
    "    for i in range(1, len(lines)): #Skip header line\n",
    "        line = get_df_line(lines[i])\n",
    "        table_df.loc[i-1] = line\n",
    "    \n",
    "    table_df = treat_not_assigned(table_df)\n",
    "        \n",
    "    return table_df"
   ]
  },
  {
   "cell_type": "markdown",
   "metadata": {},
   "source": [
    "# Get the page and clean the data"
   ]
  },
  {
   "cell_type": "code",
   "execution_count": 3,
   "metadata": {},
   "outputs": [],
   "source": [
    "response = get_request('https://en.wikipedia.org/wiki/List_of_postal_codes_of_Canada:_M');"
   ]
  },
  {
   "cell_type": "code",
   "execution_count": 4,
   "metadata": {},
   "outputs": [],
   "source": [
    "table_df = get_table_df(response)"
   ]
  },
  {
   "cell_type": "markdown",
   "metadata": {},
   "source": [
    "# Functions definitions to group elements in DataFrame"
   ]
  },
  {
   "cell_type": "code",
   "execution_count": 5,
   "metadata": {},
   "outputs": [],
   "source": [
    "def get_list_of_postcodes(df):\n",
    "    return df['Postcode'].unique()\n",
    "\n",
    "def get_empty_final_df_with_postcodes(postcodes):\n",
    "    columns = ['Borough', 'Neighbourhood']\n",
    "    df = pd.DataFrame(columns=columns)\n",
    "    \n",
    "    for i in range(len(postcodes)):\n",
    "        df.loc[postcodes[i], :] = [[], []]\n",
    "    \n",
    "    df.index.name = 'Postcode'\n",
    "    \n",
    "    return df\n",
    "\n",
    "def fill_final_df(table_df, postcodes, final_df):\n",
    "    for i in range(len(postcodes)):\n",
    "        for j in range(len(table_df)):\n",
    "            if table_df.loc[j, 'Postcode'] == postcodes[i]:\n",
    "                final_df.loc[postcodes[i], 'Borough'].append(table_df.loc[j, 'Borough'])\n",
    "                final_df.loc[postcodes[i], 'Neighbourhood'].append(table_df.loc[j, 'Neighbourhood'])\n",
    "    \n",
    "    final_df.reset_index(inplace=True)\n",
    "    return final_df\n",
    "\n",
    "def format_final_df(final_df):\n",
    "    for i in range(len(final_df)):\n",
    "        final_df.loc[i, 'Borough'] = final_df.loc[i, 'Borough'][0]\n",
    "        final_df.loc[i, 'Neighbourhood'] = ', '.join(final_df.loc[i, 'Neighbourhood'])\n",
    "    \n",
    "    return final_df\n",
    "\n",
    "def get_final_df(table_df):\n",
    "    postcodes = get_list_of_postcodes(table_df)\n",
    "    final_df = get_empty_final_df_with_postcodes(postcodes)\n",
    "    final_df = fill_final_df(table_df, postcodes, final_df)\n",
    "    final_df = format_final_df(final_df)\n",
    "    \n",
    "    return final_df\n",
    "\n"
   ]
  },
  {
   "cell_type": "code",
   "execution_count": 6,
   "metadata": {},
   "outputs": [],
   "source": [
    "\n",
    "\n",
    "final_df = get_final_df(table_df)"
   ]
  },
  {
   "cell_type": "markdown",
   "metadata": {},
   "source": [
    "# Print 12 first elements and the shape of the final DataFrame"
   ]
  },
  {
   "cell_type": "code",
   "execution_count": 7,
   "metadata": {},
   "outputs": [
    {
     "data": {
      "text/html": [
       "<div>\n",
       "<style scoped>\n",
       "    .dataframe tbody tr th:only-of-type {\n",
       "        vertical-align: middle;\n",
       "    }\n",
       "\n",
       "    .dataframe tbody tr th {\n",
       "        vertical-align: top;\n",
       "    }\n",
       "\n",
       "    .dataframe thead th {\n",
       "        text-align: right;\n",
       "    }\n",
       "</style>\n",
       "<table border=\"1\" class=\"dataframe\">\n",
       "  <thead>\n",
       "    <tr style=\"text-align: right;\">\n",
       "      <th></th>\n",
       "      <th>Postcode</th>\n",
       "      <th>Borough</th>\n",
       "      <th>Neighbourhood</th>\n",
       "    </tr>\n",
       "  </thead>\n",
       "  <tbody>\n",
       "    <tr>\n",
       "      <td>0</td>\n",
       "      <td>M3A</td>\n",
       "      <td>North York</td>\n",
       "      <td>Parkwoods</td>\n",
       "    </tr>\n",
       "    <tr>\n",
       "      <td>1</td>\n",
       "      <td>M4A</td>\n",
       "      <td>North York</td>\n",
       "      <td>Victoria Village</td>\n",
       "    </tr>\n",
       "    <tr>\n",
       "      <td>2</td>\n",
       "      <td>M5A</td>\n",
       "      <td>Downtown Toronto</td>\n",
       "      <td>Harbourfront, Regent Park</td>\n",
       "    </tr>\n",
       "    <tr>\n",
       "      <td>3</td>\n",
       "      <td>M6A</td>\n",
       "      <td>North York</td>\n",
       "      <td>Lawrence Heights, Lawrence Manor</td>\n",
       "    </tr>\n",
       "    <tr>\n",
       "      <td>4</td>\n",
       "      <td>M7A</td>\n",
       "      <td>Queen's Park</td>\n",
       "      <td>Queen's Park</td>\n",
       "    </tr>\n",
       "    <tr>\n",
       "      <td>5</td>\n",
       "      <td>M9A</td>\n",
       "      <td>Etobicoke</td>\n",
       "      <td>Islington Avenue</td>\n",
       "    </tr>\n",
       "    <tr>\n",
       "      <td>6</td>\n",
       "      <td>M1B</td>\n",
       "      <td>Scarborough</td>\n",
       "      <td>Rouge, Malvern</td>\n",
       "    </tr>\n",
       "    <tr>\n",
       "      <td>7</td>\n",
       "      <td>M3B</td>\n",
       "      <td>North York</td>\n",
       "      <td>Don Mills North</td>\n",
       "    </tr>\n",
       "    <tr>\n",
       "      <td>8</td>\n",
       "      <td>M4B</td>\n",
       "      <td>East York</td>\n",
       "      <td>Woodbine Gardens, Parkview Hill</td>\n",
       "    </tr>\n",
       "    <tr>\n",
       "      <td>9</td>\n",
       "      <td>M5B</td>\n",
       "      <td>Downtown Toronto</td>\n",
       "      <td>Ryerson, Garden District</td>\n",
       "    </tr>\n",
       "    <tr>\n",
       "      <td>10</td>\n",
       "      <td>M6B</td>\n",
       "      <td>North York</td>\n",
       "      <td>Glencairn</td>\n",
       "    </tr>\n",
       "    <tr>\n",
       "      <td>11</td>\n",
       "      <td>M9B</td>\n",
       "      <td>Etobicoke</td>\n",
       "      <td>Cloverdale, Islington, Martin Grove, Princess ...</td>\n",
       "    </tr>\n",
       "  </tbody>\n",
       "</table>\n",
       "</div>"
      ],
      "text/plain": [
       "   Postcode           Borough  \\\n",
       "0       M3A        North York   \n",
       "1       M4A        North York   \n",
       "2       M5A  Downtown Toronto   \n",
       "3       M6A        North York   \n",
       "4       M7A      Queen's Park   \n",
       "5       M9A         Etobicoke   \n",
       "6       M1B       Scarborough   \n",
       "7       M3B        North York   \n",
       "8       M4B         East York   \n",
       "9       M5B  Downtown Toronto   \n",
       "10      M6B        North York   \n",
       "11      M9B         Etobicoke   \n",
       "\n",
       "                                        Neighbourhood  \n",
       "0                                           Parkwoods  \n",
       "1                                    Victoria Village  \n",
       "2                           Harbourfront, Regent Park  \n",
       "3                    Lawrence Heights, Lawrence Manor  \n",
       "4                                        Queen's Park  \n",
       "5                                    Islington Avenue  \n",
       "6                                      Rouge, Malvern  \n",
       "7                                     Don Mills North  \n",
       "8                     Woodbine Gardens, Parkview Hill  \n",
       "9                            Ryerson, Garden District  \n",
       "10                                          Glencairn  \n",
       "11  Cloverdale, Islington, Martin Grove, Princess ...  "
      ]
     },
     "execution_count": 7,
     "metadata": {},
     "output_type": "execute_result"
    }
   ],
   "source": [
    "final_df.head(12)"
   ]
  },
  {
   "cell_type": "code",
   "execution_count": 9,
   "metadata": {},
   "outputs": [
    {
     "data": {
      "text/plain": [
       "(103, 3)"
      ]
     },
     "execution_count": 9,
     "metadata": {},
     "output_type": "execute_result"
    }
   ],
   "source": [
    "final_df.shape"
   ]
  }
 ],
 "metadata": {
  "kernelspec": {
   "display_name": "Python 3",
   "language": "python",
   "name": "python3"
  },
  "language_info": {
   "codemirror_mode": {
    "name": "ipython",
    "version": 3
   },
   "file_extension": ".py",
   "mimetype": "text/x-python",
   "name": "python",
   "nbconvert_exporter": "python",
   "pygments_lexer": "ipython3",
   "version": "3.7.3"
  }
 },
 "nbformat": 4,
 "nbformat_minor": 4
}
